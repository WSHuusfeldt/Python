{
 "nbformat": 4,
 "nbformat_minor": 2,
 "metadata": {
  "language_info": {
   "name": "python",
   "codemirror_mode": {
    "name": "ipython",
    "version": 3
   },
   "version": "3.7.4-final"
  },
  "orig_nbformat": 2,
  "file_extension": ".py",
  "mimetype": "text/x-python",
  "name": "python",
  "npconvert_exporter": "python",
  "pygments_lexer": "ipython3",
  "version": 3,
  "kernelspec": {
   "name": "python37464bitapcvirtualenvb3bfdcb9ea95408aba965b43c242237b",
   "display_name": "Python 3.7.4 64-bit ('APC': virtualenv)"
  }
 },
 "cells": [
  {
   "cell_type": "code",
   "execution_count": 136,
   "metadata": {},
   "outputs": [],
   "source": [
    "import bs4\n",
    "import requests\n",
    "import re\n",
    "import csv\n",
    "\n",
    "url = 'https://www.imdb.com/chart/toptv/?ref_=nv_tvv_250'\n",
    "\n",
    "r = requests.get(url)\n",
    "r.raise_for_status()\n",
    "soup = bs4.BeautifulSoup(r.text, 'html.parser')\n",
    "\n",
    "data = []\n",
    "\n",
    "num = re.compile(r'\\d{1,}\\.\\n')\n",
    "title = re.compile(r'\\.\\n(.+)')\n",
    "score = re.compile(r'\\d\\.\\d')\n",
    "\n",
    "table = soup.find('tbody', {\"class\": \"lister-list\"})\n",
    "tr = table.find_all('tr')\n",
    "\n",
    "for row in tr:\n",
    "    body = []\n",
    "    cols = row.find_all('td', {\"class\": \"titleColumn\"})\n",
    "\n",
    "    for ele in num.findall(row.text):\n",
    "        body.append(ele.strip())\n",
    "\n",
    "    for ele in title.findall(row.text):\n",
    "        body.append(ele.strip())\n",
    "    \n",
    "    for ele in score.findall(row.text):\n",
    "        body.append(ele.strip())\n",
    "    \n",
    "    data.append(body)\n",
    "\n",
    "\n",
    "with open(\"shows.csv\", 'w', newline='') as myfile:\n",
    "        wr = csv.writer(myfile, quoting=csv.QUOTE_ALL)\n",
    "        wr.writerow(['Number', 'Title', 'Score'])\n",
    "        for row in data:\n",
    "            wr.writerow(row)\n",
    "\n",
    "#print(s)\n",
    "#data\n",
    "#print(str(score.findall(sstring)))\n",
    "#print(soup)\n",
    "#print(str(regex.findall(sstring)))\n",
    "#print(sstring)\n",
    "#for elem in soup.findAll(\"table\")"
   ]
  },
  {
   "cell_type": "code",
   "execution_count": null,
   "metadata": {},
   "outputs": [],
   "source": []
  }
 ]
}