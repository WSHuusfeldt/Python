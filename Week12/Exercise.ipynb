{
 "nbformat": 4,
 "nbformat_minor": 2,
 "metadata": {
  "language_info": {
   "name": "python",
   "codemirror_mode": {
    "name": "ipython",
    "version": 3
   },
   "version": "3.7.4-final"
  },
  "orig_nbformat": 2,
  "file_extension": ".py",
  "mimetype": "text/x-python",
  "name": "python",
  "npconvert_exporter": "python",
  "pygments_lexer": "ipython3",
  "version": 3,
  "kernelspec": {
   "name": "python37464bitapcvirtualenvb3bfdcb9ea95408aba965b43c242237b",
   "display_name": "Python 3.7.4 64-bit ('APC': virtualenv)"
  }
 },
 "cells": [
  {
   "cell_type": "markdown",
   "metadata": {},
   "source": [
    "# Part 1"
   ]
  },
  {
   "cell_type": "code",
   "execution_count": 7,
   "metadata": {},
   "outputs": [
    {
     "output_type": "stream",
     "name": "stdout",
     "text": "[-5.5 -5.  -4.5 -4.  -3.5 -3.  -2.5 -2.  -1.5 -1.  -0.5  0.   0.5  1.\n  1.5  2.   2.5  3.   3.5  4.   4.5  5.   5.5]\n"
    },
    {
     "output_type": "execute_result",
     "data": {
      "text/plain": "[-6, 6, -1.5, 1.5]"
     },
     "metadata": {},
     "execution_count": 7
    },
    {
     "output_type": "display_data",
     "data": {
      "text/plain": "<Figure size 432x288 with 1 Axes>",
      "image/png": "[encoded data removed]"
     },
     "metadata": {
      "needs_background": "light"
     }
    }
   ],
   "source": [
    "def activation_function(x):\n",
    "    if x < 0:\n",
    "        return -1\n",
    "    else:\n",
    "        return 1\n",
    "\n",
    "rnge = np.linspace(-5.5, 5.5, num=23)\n",
    "print(rnge)\n",
    "values = [activation_function(i) for i in rnge]\n",
    "plt.plot(rnge, values)\n",
    "plt.axis([-6, 6, -1.5, 1.5])"
   ]
  },
  {
   "cell_type": "code",
   "execution_count": 8,
   "metadata": {},
   "outputs": [],
   "source": [
    "def perceptron(inp, weights):\n",
    "    dot_product = np.dot(inp, weights)\n",
    "    output = activation_function(dot_product)\n",
    "    return output"
   ]
  },
  {
   "cell_type": "markdown",
   "metadata": {},
   "source": [
    "# Part 2"
   ]
  },
  {
   "cell_type": "markdown",
   "metadata": {},
   "source": [
    "Make a new scatter plot with datapoints of weights vs heights. Choose different colors for rats and mice\n"
   ]
  },
  {
   "cell_type": "code",
   "execution_count": 4,
   "metadata": {},
   "outputs": [
    {
     "output_type": "stream",
     "name": "stdout",
     "text": "-0.09405345495111152\n"
    },
    {
     "output_type": "display_data",
     "data": {
      "text/plain": "<Figure size 640x480 with 1 Axes>"
     },
     "metadata": {}
    }
   ],
   "source": [
    "import numpy as np \n",
    "import pandas as pd\n",
    "from sklearn.metrics import confusion_matrix \n",
    "from sklearn.model_selection import train_test_split \n",
    "from sklearn.tree import DecisionTreeClassifier \n",
    "from sklearn.metrics import accuracy_score \n",
    "from sklearn.metrics import classification_report\n",
    "from sklearn import datasets\n",
    "import matplotlib\n",
    "import matplotlib.pyplot as plt\n",
    "\n",
    "\n",
    "headers = [\"weight\",\"height\",\"type\"]\n",
    "data = pd.read_csv(\"Rodents.csv\", sep=';', header = None, names = headers, skiprows=1)\n",
    "df = pd.DataFrame(data)\n",
    "\n",
    "mouse = df.loc[df['type'] == 'mouse']\n",
    "rat = df.loc[df['type'] == 'rat']\n",
    "\n",
    "fig = plt.figure()\n",
    "ax1 = fig.add_subplot(111)\n",
    "\n",
    "ax1.scatter(x=mouse['weight'], y=mouse['height'], label=\"Mouse\")\n",
    "ax1.scatter(x=rat['weight'], y=rat['height'], label=\"Rat\")\n",
    "\n",
    "plt.xlabel(\"Weight\")\n",
    "plt.ylabel(\"Height\")\n",
    "\n",
    "# Manual line\n",
    "slope = (rat['height'].sum()/250 - mouse['height'].sum()/250) / (rat['weight'].sum()/250 - mouse['weight'].sum()/250)\n",
    "print(-slope)\n",
    "x = np.linspace(0, 250)\n",
    "y = -slope * x + df['height'].max()\n",
    "\n",
    "plt.plot(x, y, label=\"Manual Perceptron\")\n",
    "plt.legend(loc=\"lower right\")\n",
    "plt.show()"
   ]
  },
  {
   "cell_type": "markdown",
   "metadata": {},
   "source": [
    "### What is slope and intercept of the linear function?\n",
    "Slope is -0.094, and intercept is ?"
   ]
  },
  {
   "cell_type": "markdown",
   "metadata": {},
   "source": [
    "### Now change the 'type' column to represent rats as 1 and mice as -1\n",
    "### Clean up any rows with null data"
   ]
  },
  {
   "cell_type": "code",
   "execution_count": 5,
   "metadata": {},
   "outputs": [
    {
     "output_type": "execute_result",
     "data": {
      "text/plain": "         weight     height  type\n0    233.479920  23.514130     1\n1    231.324467  26.033830     1\n2     17.906954   6.846577    -1\n3    230.276523  24.077800     1\n4     20.360593   6.605983    -1\n..          ...        ...   ...\n244   20.614362   6.575722    -1\n245   22.249846   6.951267    -1\n246  228.568162  27.146987     1\n247  229.002922  23.526073     1\n249  231.160957  25.548475     1\n\n[245 rows x 3 columns]",
      "text/html": "<div>\n<style scoped>\n    .dataframe tbody tr th:only-of-type {\n        vertical-align: middle;\n    }\n\n    .dataframe tbody tr th {\n        vertical-align: top;\n    }\n\n    .dataframe thead th {\n        text-align: right;\n    }\n</style>\n<table border=\"1\" class=\"dataframe\">\n  <thead>\n    <tr style=\"text-align: right;\">\n      <th></th>\n      <th>weight</th>\n      <th>height</th>\n      <th>type</th>\n    </tr>\n  </thead>\n  <tbody>\n    <tr>\n      <td>0</td>\n      <td>233.479920</td>\n      <td>23.514130</td>\n      <td>1</td>\n    </tr>\n    <tr>\n      <td>1</td>\n      <td>231.324467</td>\n      <td>26.033830</td>\n      <td>1</td>\n    </tr>\n    <tr>\n      <td>2</td>\n      <td>17.906954</td>\n      <td>6.846577</td>\n      <td>-1</td>\n    </tr>\n    <tr>\n      <td>3</td>\n      <td>230.276523</td>\n      <td>24.077800</td>\n      <td>1</td>\n    </tr>\n    <tr>\n      <td>4</td>\n      <td>20.360593</td>\n      <td>6.605983</td>\n      <td>-1</td>\n    </tr>\n    <tr>\n      <td>...</td>\n      <td>...</td>\n      <td>...</td>\n      <td>...</td>\n    </tr>\n    <tr>\n      <td>244</td>\n      <td>20.614362</td>\n      <td>6.575722</td>\n      <td>-1</td>\n    </tr>\n    <tr>\n      <td>245</td>\n      <td>22.249846</td>\n      <td>6.951267</td>\n      <td>-1</td>\n    </tr>\n    <tr>\n      <td>246</td>\n      <td>228.568162</td>\n      <td>27.146987</td>\n      <td>1</td>\n    </tr>\n    <tr>\n      <td>247</td>\n      <td>229.002922</td>\n      <td>23.526073</td>\n      <td>1</td>\n    </tr>\n    <tr>\n      <td>249</td>\n      <td>231.160957</td>\n      <td>25.548475</td>\n      <td>1</td>\n    </tr>\n  </tbody>\n</table>\n<p>245 rows × 3 columns</p>\n</div>"
     },
     "metadata": {},
     "execution_count": 5
    }
   ],
   "source": [
    "# Drops rows where NaN is present\n",
    "df = df.dropna(axis='rows')\n",
    "\n",
    "# Replaces rat and mouse with 1 and -1 in column 'type'\n",
    "df['type'].replace('rat', 1, inplace=True)\n",
    "df['type'].replace('mouse', -1, inplace=True)\n",
    "df\n",
    ""
   ]
  },
  {
   "cell_type": "markdown",
   "metadata": {},
   "source": [
    "### Use these weights herè [40,-190] to determine if the following 3 animals are mice or rats"
   ]
  },
  {
   "cell_type": "code",
   "execution_count": 9,
   "metadata": {},
   "outputs": [
    {
     "output_type": "stream",
     "name": "stdout",
     "text": "1 rat\n-1 mouse\n1 rat\n"
    }
   ],
   "source": [
    "rodents = [[231.32446731816555,26.03382997978225],\n",
    "[17.906954059999567,6.846576762459397],\n",
    "[230.276522831171,24.077799766119398]]\n",
    "\n",
    "weight = [40, -190]\n",
    "\n",
    "# Predicts if it's a rat or mouse\n",
    "for rodent in rodents:\n",
    "    if perceptron(rodent, weight) == 1:\n",
    "        print(str(perceptron(rodent, weight)) + ' rat')\n",
    "    else:\n",
    "        print(str(perceptron(rodent, weight)) + ' mouse')"
   ]
  },
  {
   "cell_type": "code",
   "execution_count": 13,
   "metadata": {},
   "outputs": [
    {
     "output_type": "stream",
     "name": "stdout",
     "text": "height      weight\n0  23.514130  233.479920\n1  26.033830  231.324467\n2   6.846577   17.906954\n3  24.077800  230.276523\n4   6.605983   20.360593\n5   6.812460   21.605388\n6  11.035404   17.857287\n7   3.426412   22.126466\n8  10.224681   16.705946\n"
    }
   ],
   "source": [
    "def pla(training_data, no_iterations=10000, eta=0.5):\n",
    "    \"\"\"\n",
    "    Find the proper weights to use in the perceptron based on data and target\n",
    "    Parameters:\n",
    "    training_data: list of vectors, as predictors zipped with a target value\n",
    "    no_iterations: number of times to adjust the weights to get them as close as possible to the optimal number\n",
    "    eta: the learning rate (prevent learning to go pendulum from one extreme error to the opposite)\n",
    "    \"\"\"\n",
    "\n",
    "    dim = len(training_data[0][0])\n",
    "    weights = np.random.random(\n",
    "        dim\n",
    "    )  # error and weights (for x and y) start out as random numbers\n",
    "\n",
    "    # initial_error\n",
    "    error = np.random.random()\n",
    "    weight_history = [np.copy(weights)]\n",
    "\n",
    "    for i in range(no_iterations):\n",
    "\n",
    "        # breakpoint()\n",
    "        inp_vec, expected_label = training_data[\n",
    "            i % len(training_data)\n",
    "        ]  # expected labels are 1 or -1\n",
    "        perceptron_output = perceptron(\n",
    "            inp_vec, weights\n",
    "        )  # perceptron output id a decimal between 0 and 1\n",
    "        error = expected_label - perceptron_output  # error\n",
    "        weights += eta * error * inp_vec  # accumulate the weights\n",
    "        weight_history.append(np.copy(weights))\n",
    "\n",
    "    return weights, weight_history\n",
    "\n",
    "td = df[['height', 'weight']][:9]\n",
    "print(td)\n",
    "#learned_weights, weight_history = pla(td)\n",
    "    # print(weight_history)\n",
    "#print(\"LEARNED WEIGHTS\", learned_weights)"
   ]
  }
 ]
}