{
 "nbformat": 4,
 "nbformat_minor": 2,
 "metadata": {
  "language_info": {
   "name": "python",
   "codemirror_mode": {
    "name": "ipython",
    "version": 3
   },
   "version": "3.7.4-final"
  },
  "orig_nbformat": 2,
  "file_extension": ".py",
  "mimetype": "text/x-python",
  "name": "python",
  "npconvert_exporter": "python",
  "pygments_lexer": "ipython3",
  "version": 3,
  "kernelspec": {
   "name": "python37464bitapcvirtualenvb3bfdcb9ea95408aba965b43c242237b",
   "display_name": "Python 3.7.4 64-bit ('APC': virtualenv)"
  }
 },
 "cells": [
  {
   "cell_type": "code",
   "execution_count": 79,
   "metadata": {},
   "outputs": [
    {
     "name": "stdout",
     "output_type": "stream",
     "text": "Natus Vincere\nAstralis\nmousesports\nG2\nLiquid\n"
    }
   ],
   "source": [
    "from selenium import webdriver\n",
    "import bs4\n",
    "import requests\n",
    "import re\n",
    "\n",
    "r = requests.get('https://www.hltv.org')\n",
    "r.raise_for_status()\n",
    "soup = bs4.BeautifulSoup(r.text, 'html.parser')\n",
    "\n",
    "teams = soup.find_all('img', attrs={'class': 'teamImg'})\n",
    "\n",
    "for a in teams:\n",
    "    print(a.get('title'))"
   ]
  },
  {
   "cell_type": "code",
   "execution_count": 101,
   "metadata": {},
   "outputs": [],
   "source": [
    "base_url = 'https://www.hltv.org'\n",
    "browser = webdriver.Firefox()\n",
    "\n",
    "browser.get(base_url)\n",
    "browser.implicitly_wait(5)\n",
    "\n",
    "search_field = browser.find_element_by_name('query')\n",
    "browser.find\n",
    "browser.implicitly_wait(2)\n",
    "search_field.send_keys('Copenhagen flames')\n",
    "search_field.submit()\n",
    "browser.implicitly_wait(2)\n",
    "\n",
    "browser.find_element_by_xpath('//*[@href=\"/team/7461/copenhagen-flames\"]').click()"
   ]
  },
  {
   "cell_type": "code",
   "execution_count": 102,
   "metadata": {},
   "outputs": [
    {
     "name": "stdout",
     "output_type": "stream",
     "text": "\n2:0\n2:1\n0:2\n1:2\n1:2\n16:7\n1:2\n2:0\n2:0\n2:0\n2:0\n0:2\n0:2\n2:1\n2:0\n2:0\n\nWins in total: 10\n"
    }
   ],
   "source": [
    "url = 'https://www.hltv.org/team/7461/copenhagen-flames#tab-matchesBox'\n",
    "\n",
    "r = requests.get(url)\n",
    "r.raise_for_status()\n",
    "soup = bs4.BeautifulSoup(r.text, 'html.parser')\n",
    "\n",
    "scores = soup.find_all('div', attrs={'class': 'score-cell'})\n",
    "\n",
    "sstring = ''\n",
    "\n",
    "for score in scores:\n",
    "    sstring += '\\n'\n",
    "    for s in score.find_all('span'):\n",
    "        sstring += s.text\n",
    "print(sstring)\n",
    "\n",
    "regex = re.compile(r'2:\\d')\n",
    "\n",
    "print('\\nWins in total: ' + str(len(regex.findall(sstring))+1))"
   ]
  },
  {
   "cell_type": "code",
   "execution_count": null,
   "metadata": {},
   "outputs": [],
   "source": []
  }
 ]
}