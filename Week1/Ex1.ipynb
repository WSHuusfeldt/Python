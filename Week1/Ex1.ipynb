{
 "cells": [
  {
   "cell_type": "markdown",
   "metadata": {},
   "source": [
    "  # 1.a"
   ]
  },
  {
   "cell_type": "code",
   "execution_count": 1,
   "metadata": {
    "scrolled": true
   },
   "outputs": [
    {
     "name": "stdout",
     "output_type": "stream",
     "text": [
      "['Hashger']\n"
     ]
    }
   ],
   "source": [
    "names = ['Emilios', 'Hashger', 'Andiaz', 'Martinez']\n",
    "namesH = []\n",
    "\n",
    "for name in names:\n",
    "    if name.startswith('H'):\n",
    "        namesH.append(name)\n",
    "\n",
    "print(namesH)"
   ]
  },
  {
   "cell_type": "markdown",
   "metadata": {},
   "source": [
    "# 1.b"
   ]
  },
  {
   "cell_type": "code",
   "execution_count": 74,
   "metadata": {},
   "outputs": [
    {
     "name": "stdout",
     "output_type": "stream",
     "text": [
      "[1, 8, 27, 64, 125, 216, 343, 512, 729, 1000, 1331, 1728, 2197, 2744, 3375, 4096, 4913, 5832, 6859, 8000, 9261, 10648, 12167, 13824, 15625, 17576, 19683, 21952, 24389, 27000, 29791, 32768, 35937, 39304, 42875, 46656, 50653, 54872, 59319, 64000, 68921, 74088, 79507, 85184, 91125, 97336, 103823, 110592, 117649, 125000, 132651, 140608, 148877, 157464, 166375, 175616, 185193, 195112, 205379, 216000, 226981, 238328, 250047, 262144, 274625, 287496, 300763, 314432, 328509, 343000, 357911, 373248, 389017, 405224, 421875, 438976, 456533, 474552, 493039, 512000, 531441, 551368, 571787, 592704, 614125, 636056, 658503, 681472, 704969, 729000, 753571, 778688, 804357, 830584, 857375, 884736, 912673, 941192, 970299, 1000000]\n"
     ]
    }
   ],
   "source": [
    "print([i**3 for i in range(1, 101)])"
   ]
  },
  {
   "cell_type": "markdown",
   "metadata": {},
   "source": [
    " # 1.c"
   ]
  },
  {
   "cell_type": "code",
   "execution_count": 6,
   "metadata": {},
   "outputs": [
    {
     "name": "stdout",
     "output_type": "stream",
     "text": [
      "[(7, 'Emilios'), (7, 'Hashger'), (6, 'Andiaz'), (8, 'Martinez')]\n"
     ]
    }
   ],
   "source": [
    "names = ['Emilios', 'Hashger', 'Andiaz', 'Martinez']\n",
    "namesVal = []\n",
    "\n",
    "for name in names:\n",
    "    namesVal.append((len(name), name))\n",
    "\n",
    "print(namesVal)"
   ]
  },
  {
   "cell_type": "markdown",
   "metadata": {},
   "source": [
    "# 1.d"
   ]
  },
  {
   "cell_type": "code",
   "execution_count": 9,
   "metadata": {},
   "outputs": [
    {
     "name": "stdout",
     "output_type": "stream",
     "text": [
      "1\n",
      "4\n"
     ]
    }
   ],
   "source": [
    "str = ('Welcome back !1!!, 4th semester')\n",
    "\n",
    "for i in str:\n",
    "    if i.isnumeric():\n",
    "        print(i)"
   ]
  },
  {
   "cell_type": "markdown",
   "metadata": {},
   "source": [
    "# 1.e"
   ]
  },
  {
   "cell_type": "code",
   "execution_count": 17,
   "metadata": {},
   "outputs": [
    {
     "name": "stdout",
     "output_type": "stream",
     "text": [
      "{(1, 3), (6, 6), (5, 6), (2, 1), (6, 2), (1, 6), (5, 1), (2, 5), (1, 2), (3, 3), (5, 5), (4, 4), (6, 3), (1, 5), (3, 6), (2, 2), (4, 1), (1, 1), (6, 4), (3, 2), (2, 6), (5, 4), (4, 5), (5, 2), (1, 4), (2, 3), (4, 2), (6, 5), (3, 5), (5, 3), (4, 6), (6, 1), (3, 1), (4, 3), (3, 4), (2, 4)}\n"
     ]
    }
   ],
   "source": [
    "dice = set([(x, y) for x in range(1,7) for y in range(1,7)])\n",
    "print(dice)"
   ]
  },
  {
   "cell_type": "markdown",
   "metadata": {},
   "source": [
    "# 2.a"
   ]
  },
  {
   "cell_type": "code",
   "execution_count": 18,
   "metadata": {},
   "outputs": [
    {
     "name": "stdout",
     "output_type": "stream",
     "text": [
      "{'Andreas': 7, 'Asger': 5, 'Martin': 6, 'Emil': 4, 'William': 7}\n"
     ]
    }
   ],
   "source": [
    "names = ['Andreas', 'Asger', 'Martin', 'Emil', 'William']\n",
    "namesLength = {}\n",
    "\n",
    "for name in names:\n",
    "    namesLength[name] = len(name)\n",
    "\n",
    "print(namesLength)"
   ]
  },
  {
   "cell_type": "markdown",
   "metadata": {},
   "source": [
    "# 2.b"
   ]
  },
  {
   "cell_type": "code",
   "execution_count": 22,
   "metadata": {},
   "outputs": [
    {
     "name": "stdout",
     "output_type": "stream",
     "text": [
      "{1: 1.0, 2: 1.4142135623730951, 3: 1.7320508075688772, 4: 2.0, 5: 2.23606797749979, 6: 2.449489742783178, 7: 2.6457513110645907}\n"
     ]
    }
   ],
   "source": [
    "import math\n",
    "\n",
    "numbers = [1, 2, 3, 4, 5, 6, 7]\n",
    "numSquare = {}\n",
    "\n",
    "for n in numbers:\n",
    "    numSquare[n] = math.sqrt(n)\n",
    "    \n",
    "print(numSquare)"
   ]
  },
  {
   "cell_type": "markdown",
   "metadata": {},
   "source": [
    "# 3.a\n"
   ]
  },
  {
   "cell_type": "code",
   "execution_count": 82,
   "metadata": {},
   "outputs": [
    {
     "name": "stdout",
     "output_type": "stream",
     "text": [
      "{(1, 1): 2.7777777777777777, (1, 2): 5.555555555555555, (1, 3): 5.555555555555555, (1, 4): 5.555555555555555, (1, 5): 5.555555555555555, (1, 6): 5.555555555555555, (2, 1): 5.555555555555555, (2, 2): 2.7777777777777777, (2, 3): 5.555555555555555, (2, 4): 5.555555555555555, (2, 5): 5.555555555555555, (2, 6): 5.555555555555555, (3, 1): 5.555555555555555, (3, 2): 5.555555555555555, (3, 3): 2.7777777777777777, (3, 4): 5.555555555555555, (3, 5): 5.555555555555555, (3, 6): 5.555555555555555, (4, 1): 5.555555555555555, (4, 2): 5.555555555555555, (4, 3): 5.555555555555555, (4, 4): 2.7777777777777777, (4, 5): 5.555555555555555, (4, 6): 5.555555555555555, (5, 1): 5.555555555555555, (5, 2): 5.555555555555555, (5, 3): 5.555555555555555, (5, 4): 5.555555555555555, (5, 5): 2.7777777777777777, (5, 6): 5.555555555555555, (6, 1): 5.555555555555555, (6, 2): 5.555555555555555, (6, 3): 5.555555555555555, (6, 4): 5.555555555555555, (6, 5): 5.555555555555555, (6, 6): 2.7777777777777777}\n"
     ]
    }
   ],
   "source": [
    "dice = [(x, y) for x in range(1,7) for y in range(1,7)]\n",
    "diceDic = {}\n",
    "\n",
    "for x,y in dice:\n",
    "    if x == y:\n",
    "        diceDic[x,y] = 1/len(dice) * 100\n",
    "    else:\n",
    "        diceDic[x,y] = 2/len(dice) * 100\n",
    "\n",
    "print(diceDic)"
   ]
  },
  {
   "cell_type": "code",
   "execution_count": null,
   "metadata": {},
   "outputs": [],
   "source": []
  }
 ],
 "metadata": {
  "kernelspec": {
   "display_name": "Python 3",
   "language": "python",
   "name": "python3"
  },
  "language_info": {
   "codemirror_mode": {
    "name": "ipython",
    "version": 3
   },
   "file_extension": ".py",
   "mimetype": "text/x-python",
   "name": "python",
   "nbconvert_exporter": "python",
   "pygments_lexer": "ipython3",
   "version": "3.7.4"
  }
 },
 "nbformat": 4,
 "nbformat_minor": 2
}
